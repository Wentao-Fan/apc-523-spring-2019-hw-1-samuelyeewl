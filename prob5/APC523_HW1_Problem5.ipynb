{
 "cells": [
  {
   "cell_type": "markdown",
   "metadata": {},
   "source": [
    "# APC 523 HW 1 Problem 5"
   ]
  },
  {
   "cell_type": "code",
   "execution_count": 1,
   "metadata": {},
   "outputs": [],
   "source": [
    "import numpy as np"
   ]
  },
  {
   "cell_type": "code",
   "execution_count": 6,
   "metadata": {},
   "outputs": [],
   "source": [
    "def compute_exp():\n",
    "    '''\n",
    "    Computes e using its limit definition, only for n as an integer power of 10.\n",
    "    \n",
    "    Returns:\n",
    "        res: List of values in the sequence\n",
    "        n: n_stop for 12 sig-fig convergence\n",
    "        i: log_10(n)\n",
    "    '''\n",
    "    res = []\n",
    "    n = 1\n",
    "    i = 0\n",
    "    while True:\n",
    "        e_computed = (1 + 1/n)**n\n",
    "        res.append(e_computed)\n",
    "        if len(res) >= 2 and (\n",
    "            '{:.12g}'.format(res[-2]) == '{:.12g}'.format(res[-1])):\n",
    "            return res, n, i\n",
    "        n *= 10\n",
    "        i += 1"
   ]
  },
  {
   "cell_type": "code",
   "execution_count": 8,
   "metadata": {},
   "outputs": [],
   "source": [
    "results = compute_exp()"
   ]
  },
  {
   "cell_type": "code",
   "execution_count": 48,
   "metadata": {},
   "outputs": [
    {
     "name": "stdout",
     "output_type": "stream",
     "text": [
      "$10^{0}$    & 2   \\\\\n",
      "$10^{1}$    & 2.5937424601   \\\\\n",
      "$10^{2}$    & 2.70481382942   \\\\\n",
      "$10^{3}$    & 2.71692393224   \\\\\n",
      "$10^{4}$    & 2.71814592682   \\\\\n",
      "$10^{5}$    & 2.71826823719   \\\\\n",
      "$10^{6}$    & 2.7182804691   \\\\\n",
      "$10^{7}$    & 2.71828169413   \\\\\n",
      "$10^{8}$    & 2.71828179835   \\\\\n",
      "$10^{9}$    & 2.71828205201   \\\\\n",
      "$10^{10}$    & 2.71828205323   \\\\\n",
      "$10^{11}$    & 2.71828205336   \\\\\n",
      "$10^{12}$    & 2.71852349604   \\\\\n",
      "$10^{13}$    & 2.71611003409   \\\\\n",
      "$10^{14}$    & 2.71611003409   \\\\\n"
     ]
    }
   ],
   "source": [
    "for i, res in enumerate(results[0]):\n",
    "    print('$10^{{{0:d}}}$    & {1:.12g}   \\\\\\\\'.format(i, res))"
   ]
  },
  {
   "cell_type": "code",
   "execution_count": 47,
   "metadata": {},
   "outputs": [
    {
     "name": "stdout",
     "output_type": "stream",
     "text": [
      "0: 0.718281828459\n",
      "1: 0.124539368359\n",
      "2: 0.013467999038\n",
      "3: 0.001357896223\n",
      "4: 0.000135901634\n",
      "5: 0.000013591267\n",
      "6: 0.000001359363\n",
      "7: 0.000000134327\n",
      "8: 0.000000030112\n",
      "9: 0.000000223553\n",
      "10: 0.000000224776\n",
      "11: 0.000000224898\n",
      "12: 0.000241667578\n",
      "13: 0.002171794372\n",
      "14: 0.002171794372\n"
     ]
    }
   ],
   "source": [
    "for i, res in enumerate(results[0]):\n",
    "    print('{:d}: {:.12f}'.format(i, np.fabs(res - np.e)))"
   ]
  },
  {
   "cell_type": "code",
   "execution_count": 39,
   "metadata": {},
   "outputs": [
    {
     "name": "stdout",
     "output_type": "stream",
     "text": [
      "2.718281828459\n"
     ]
    }
   ],
   "source": [
    "print('{:.12f}'.format(np.e))"
   ]
  },
  {
   "cell_type": "code",
   "execution_count": 50,
   "metadata": {},
   "outputs": [],
   "source": [
    "def compute_exp_binary():\n",
    "    '''\n",
    "    Computes e using its limit definition, now for n as powers of two.\n",
    "    \n",
    "    Returns:\n",
    "        res: List of values in the sequence\n",
    "        n: n_stop for 12 sig-fig convergence\n",
    "        i: log_10(n)\n",
    "    '''\n",
    "    res = []\n",
    "    n = 1\n",
    "    i = 0\n",
    "    while True:\n",
    "        e_computed = (1 + 1/n)**n\n",
    "        res.append(e_computed)\n",
    "        if len(res) >= 2 and (\n",
    "            '{:.12g}'.format(res[-2]) == '{:.12g}'.format(res[-1])):\n",
    "            return res, n, i\n",
    "        n *= 2\n",
    "        i += 1"
   ]
  },
  {
   "cell_type": "code",
   "execution_count": 53,
   "metadata": {},
   "outputs": [
    {
     "name": "stdout",
     "output_type": "stream",
     "text": [
      "$2^{0}$    & 2   \\\\\n",
      "$2^{1}$    & 2.25   \\\\\n",
      "$2^{2}$    & 2.44140625   \\\\\n",
      "$2^{3}$    & 2.56578451395   \\\\\n",
      "$2^{4}$    & 2.63792849737   \\\\\n",
      "$2^{5}$    & 2.67699012938   \\\\\n",
      "$2^{6}$    & 2.69734495257   \\\\\n",
      "$2^{7}$    & 2.70773901969   \\\\\n",
      "$2^{8}$    & 2.71299162425   \\\\\n",
      "$2^{9}$    & 2.71563200017   \\\\\n",
      "$2^{10}$    & 2.71695572947   \\\\\n",
      "$2^{11}$    & 2.71761848234   \\\\\n",
      "$2^{12}$    & 2.71795008119   \\\\\n",
      "$2^{13}$    & 2.71811593627   \\\\\n",
      "$2^{14}$    & 2.71819887772   \\\\\n",
      "$2^{15}$    & 2.71824035193   \\\\\n",
      "$2^{16}$    & 2.7182610899   \\\\\n",
      "$2^{17}$    & 2.71827145911   \\\\\n",
      "$2^{18}$    & 2.71827664377   \\\\\n",
      "$2^{19}$    & 2.71827923611   \\\\\n",
      "$2^{20}$    & 2.71828053228   \\\\\n",
      "$2^{21}$    & 2.71828118037   \\\\\n",
      "$2^{22}$    & 2.71828150441   \\\\\n",
      "$2^{23}$    & 2.71828166644   \\\\\n",
      "$2^{24}$    & 2.71828174745   \\\\\n",
      "$2^{25}$    & 2.71828178795   \\\\\n",
      "$2^{26}$    & 2.71828180821   \\\\\n",
      "$2^{27}$    & 2.71828181833   \\\\\n",
      "$2^{28}$    & 2.7182818234   \\\\\n",
      "$2^{29}$    & 2.71828182593   \\\\\n",
      "$2^{30}$    & 2.71828182719   \\\\\n",
      "$2^{31}$    & 2.71828182783   \\\\\n",
      "$2^{32}$    & 2.71828182814   \\\\\n",
      "$2^{33}$    & 2.7182818283   \\\\\n",
      "$2^{34}$    & 2.71828182838   \\\\\n",
      "$2^{35}$    & 2.71828182842   \\\\\n",
      "$2^{36}$    & 2.71828182844   \\\\\n",
      "$2^{37}$    & 2.71828182845   \\\\\n",
      "$2^{38}$    & 2.71828182845   \\\\\n"
     ]
    }
   ],
   "source": [
    "results_bin = compute_exp_binary()\n",
    "for i, res in enumerate(results_bin[0]):\n",
    "    print('$2^{{{0:d}}}$    & {1:.12g}   \\\\\\\\'.format(i, res))"
   ]
  },
  {
   "cell_type": "code",
   "execution_count": null,
   "metadata": {},
   "outputs": [],
   "source": []
  }
 ],
 "metadata": {
  "kernelspec": {
   "display_name": "Python 3",
   "language": "python",
   "name": "python3"
  },
  "language_info": {
   "codemirror_mode": {
    "name": "ipython",
    "version": 3
   },
   "file_extension": ".py",
   "mimetype": "text/x-python",
   "name": "python",
   "nbconvert_exporter": "python",
   "pygments_lexer": "ipython3",
   "version": "3.7.1"
  }
 },
 "nbformat": 4,
 "nbformat_minor": 2
}
