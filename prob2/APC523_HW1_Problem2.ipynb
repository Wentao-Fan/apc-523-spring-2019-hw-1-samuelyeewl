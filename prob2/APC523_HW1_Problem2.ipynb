{
 "cells": [
  {
   "cell_type": "markdown",
   "metadata": {},
   "source": [
    "# APC 523 HW1 Problem 2"
   ]
  },
  {
   "cell_type": "code",
   "execution_count": 1,
   "metadata": {},
   "outputs": [],
   "source": [
    "import numpy as np\n",
    "import matplotlib.pyplot as plt\n",
    "import math"
   ]
  },
  {
   "cell_type": "code",
   "execution_count": 2,
   "metadata": {},
   "outputs": [],
   "source": [
    "from math import factorial"
   ]
  },
  {
   "cell_type": "code",
   "execution_count": 3,
   "metadata": {},
   "outputs": [],
   "source": [
    "%matplotlib inline"
   ]
  },
  {
   "cell_type": "markdown",
   "metadata": {},
   "source": [
    "## Function definitions"
   ]
  },
  {
   "cell_type": "code",
   "execution_count": 4,
   "metadata": {
    "slideshow": {
     "slide_type": "-"
    }
   },
   "outputs": [],
   "source": [
    "def truncate_dd(x, n=5):\n",
    "    '''\n",
    "    Truncates the given floating-point value to n decimal digits.\n",
    "    '''\n",
    "    return float('{:.5g}'.format(x))\n",
    "\n",
    "def mult_trunc(x, y, n=5):\n",
    "    '''\n",
    "    Multiply two numbers with truncation.\n",
    "    '''\n",
    "    return truncate_dd(x * y, n)\n",
    "\n",
    "def div_trunc(x, y, n=5):\n",
    "    '''\n",
    "    Divide two numbers with truncation.\n",
    "    '''\n",
    "    return truncate_dd(x / y, n)\n",
    "\n",
    "def add_trunc(x, y, n=5):\n",
    "    '''\n",
    "    Add two numbers with truncation.\n",
    "    '''\n",
    "    return truncate_dd(x + y, n)\n",
    "\n",
    "def pow_trunc(x, p, n=5):\n",
    "    '''\n",
    "    Computes x^p by repeated multiplication with truncation.\n",
    "    '''\n",
    "    if p < 0:\n",
    "        raise NotImplementedError\n",
    "    elif p == 0:\n",
    "        return 1\n",
    "    elif p == 1:\n",
    "        return truncate_dd(x, n)\n",
    "    base = x\n",
    "    for i in range(p-1):\n",
    "        x = mult_trunc(base, x, n)\n",
    "    return x\n",
    "\n",
    "def factorial_trunc(x, n=5):\n",
    "    '''\n",
    "    Computes x! by multiplying in ascending order, with truncation.\n",
    "    '''\n",
    "    result = 1.0\n",
    "    for i in range(2, x+1):\n",
    "        result = mult_trunc(result, i, n)\n",
    "    return result"
   ]
  },
  {
   "cell_type": "code",
   "execution_count": 5,
   "metadata": {},
   "outputs": [],
   "source": [
    "def exp_trunc(x, terms=30, n=5):\n",
    "    '''\n",
    "    Compute e^x by its power series up to a given number of terms, truncating at each operation.\n",
    "    '''\n",
    "    result = 0.0\n",
    "    for i in range(terms+1):\n",
    "        result = add_trunc(result, div_trunc(pow_trunc(x, i, n), factorial_trunc(i, n), n), n)\n",
    "    return result"
   ]
  },
  {
   "cell_type": "markdown",
   "metadata": {
    "toc-hr-collapsed": false
   },
   "source": [
    "## Compute partial sums, left to right"
   ]
  },
  {
   "cell_type": "code",
   "execution_count": 6,
   "metadata": {},
   "outputs": [
    {
     "name": "stdout",
     "output_type": "stream",
     "text": [
      "k = 0, S_k = 1.000000\n",
      "k = 1, S_k = 6.500000\n",
      "k = 2, S_k = 21.625000\n",
      "k = 3, S_k = 49.355000\n",
      "k = 4, S_k = 87.484000\n",
      "k = 5, S_k = 129.430000\n",
      "k = 6, S_k = 167.880000\n",
      "k = 7, S_k = 198.090000\n",
      "k = 8, S_k = 218.860000\n",
      "k = 9, S_k = 231.550000\n",
      "k = 10, S_k = 238.530000\n",
      "k = 11, S_k = 242.020000\n",
      "k = 12, S_k = 243.620000\n",
      "k = 13, S_k = 244.300000\n",
      "k = 14, S_k = 244.570000\n",
      "k = 15, S_k = 244.670000\n",
      "k = 16, S_k = 244.700000\n",
      "k = 17, S_k = 244.710000\n",
      "k = 18, S_k = 244.710000\n",
      "k = 19, S_k = 244.710000\n",
      "k = 20, S_k = 244.710000\n",
      "k = 21, S_k = 244.710000\n",
      "k = 22, S_k = 244.710000\n",
      "k = 23, S_k = 244.710000\n",
      "k = 24, S_k = 244.710000\n",
      "k = 25, S_k = 244.710000\n",
      "k = 26, S_k = 244.710000\n",
      "k = 27, S_k = 244.710000\n",
      "k = 28, S_k = 244.710000\n",
      "k = 29, S_k = 244.710000\n"
     ]
    }
   ],
   "source": [
    "for i in range(30):\n",
    "    print(\"k = {0:d}, S_k = {1:f}\".format(i, exp_trunc(5.5, i)))"
   ]
  },
  {
   "cell_type": "code",
   "execution_count": 7,
   "metadata": {},
   "outputs": [
    {
     "data": {
      "text/plain": [
       "244.69193226422038"
      ]
     },
     "execution_count": 7,
     "metadata": {},
     "output_type": "execute_result"
    }
   ],
   "source": [
    "np.exp(5.5)"
   ]
  },
  {
   "cell_type": "code",
   "execution_count": 8,
   "metadata": {},
   "outputs": [
    {
     "data": {
      "text/plain": [
       "7.383870654188337e-05"
      ]
     },
     "execution_count": 8,
     "metadata": {},
     "output_type": "execute_result"
    }
   ],
   "source": [
    "(244.71 - np.exp(5.5))/np.exp(5.5)"
   ]
  },
  {
   "cell_type": "markdown",
   "metadata": {},
   "source": [
    "## Compute partial sums, right to left"
   ]
  },
  {
   "cell_type": "code",
   "execution_count": 9,
   "metadata": {},
   "outputs": [],
   "source": [
    "def exp_trunc_back(x, terms=30, n=5):\n",
    "    '''\n",
    "    Compute e^x by its power series up to a given number of terms, truncating at each operation.\n",
    "    '''\n",
    "    result = 0.0\n",
    "    for i in range(terms, 0, -1):\n",
    "        result = add_trunc(result, div_trunc(pow_trunc(x, i, n), factorial_trunc(i, n), n), n)\n",
    "    result = add_trunc(result, 1.0)\n",
    "    return result"
   ]
  },
  {
   "cell_type": "code",
   "execution_count": 10,
   "metadata": {},
   "outputs": [
    {
     "name": "stdout",
     "output_type": "stream",
     "text": [
      "k = 0, S_k = 1.000000\n",
      "k = 1, S_k = 6.500000\n",
      "k = 2, S_k = 21.625000\n",
      "k = 3, S_k = 49.355000\n",
      "k = 4, S_k = 87.484000\n",
      "k = 5, S_k = 129.420000\n",
      "k = 6, S_k = 167.880000\n",
      "k = 7, S_k = 198.090000\n",
      "k = 8, S_k = 218.850000\n",
      "k = 9, S_k = 231.540000\n",
      "k = 10, S_k = 238.510000\n",
      "k = 11, S_k = 242.010000\n",
      "k = 12, S_k = 243.620000\n",
      "k = 13, S_k = 244.280000\n",
      "k = 14, S_k = 244.560000\n",
      "k = 15, S_k = 244.660000\n",
      "k = 16, S_k = 244.690000\n",
      "k = 17, S_k = 244.690000\n",
      "k = 18, S_k = 244.690000\n",
      "k = 19, S_k = 244.690000\n",
      "k = 20, S_k = 244.690000\n",
      "k = 21, S_k = 244.710000\n",
      "k = 22, S_k = 244.710000\n",
      "k = 23, S_k = 244.710000\n",
      "k = 24, S_k = 244.710000\n",
      "k = 25, S_k = 244.710000\n",
      "k = 26, S_k = 244.710000\n",
      "k = 27, S_k = 244.710000\n",
      "k = 28, S_k = 244.710000\n",
      "k = 29, S_k = 244.710000\n"
     ]
    }
   ],
   "source": [
    "for i in range(30):\n",
    "    print(\"k = {0:d}, S_k = {1:f}\".format(i, exp_trunc_back(5.5, i)))"
   ]
  },
  {
   "cell_type": "code",
   "execution_count": 11,
   "metadata": {},
   "outputs": [
    {
     "data": {
      "text/plain": [
       "-7.896722227439787e-06"
      ]
     },
     "execution_count": 11,
     "metadata": {},
     "output_type": "execute_result"
    }
   ],
   "source": [
    "(244.69 - np.exp(5.5))/np.exp(5.5)"
   ]
  },
  {
   "cell_type": "markdown",
   "metadata": {},
   "source": [
    "## Compute negative exponential"
   ]
  },
  {
   "cell_type": "code",
   "execution_count": 12,
   "metadata": {},
   "outputs": [
    {
     "data": {
      "text/plain": [
       "0.004086771438464067"
      ]
     },
     "execution_count": 12,
     "metadata": {},
     "output_type": "execute_result"
    }
   ],
   "source": [
    "np.exp(-5.5)"
   ]
  },
  {
   "cell_type": "code",
   "execution_count": 13,
   "metadata": {},
   "outputs": [
    {
     "name": "stdout",
     "output_type": "stream",
     "text": [
      "k = 0, S_k = 1.0000000\n",
      "k = 1, S_k = -4.5000000\n",
      "k = 2, S_k = 10.6250000\n",
      "k = 3, S_k = -17.1050000\n",
      "k = 4, S_k = 21.0240000\n",
      "k = 5, S_k = -20.9180000\n",
      "k = 6, S_k = 17.5290000\n",
      "k = 7, S_k = -12.6790000\n",
      "k = 8, S_k = 8.0890000\n",
      "k = 9, S_k = -4.6030000\n",
      "k = 10, S_k = 2.3775000\n",
      "k = 11, S_k = -1.1127000\n",
      "k = 12, S_k = 0.4870000\n",
      "k = 13, S_k = -0.1897900\n",
      "k = 14, S_k = 0.0760900\n",
      "k = 15, S_k = -0.0213940\n",
      "k = 16, S_k = 0.0121160\n",
      "k = 17, S_k = 0.0012740\n",
      "k = 18, S_k = 0.0045868\n",
      "k = 19, S_k = 0.0036278\n",
      "k = 20, S_k = 0.0038915\n",
      "k = 21, S_k = 0.0038224\n",
      "k = 22, S_k = 0.0038397\n",
      "k = 23, S_k = 0.0038356\n",
      "k = 24, S_k = 0.0038365\n",
      "k = 25, S_k = 0.0038363\n",
      "k = 26, S_k = 0.0038363\n",
      "k = 27, S_k = 0.0038363\n",
      "k = 28, S_k = 0.0038363\n",
      "k = 29, S_k = 0.0038363\n"
     ]
    }
   ],
   "source": [
    "for i in range(30):\n",
    "    print(\"k = {0:d}, S_k = {1:.7f}\".format(i, exp_trunc(-5.5, i)))"
   ]
  },
  {
   "cell_type": "code",
   "execution_count": 14,
   "metadata": {},
   "outputs": [
    {
     "data": {
      "text/plain": [
       "-0.06128834025477125"
      ]
     },
     "execution_count": 14,
     "metadata": {},
     "output_type": "execute_result"
    }
   ],
   "source": [
    "(0.0038363 - np.exp(-5.5))/np.exp(-5.5)"
   ]
  },
  {
   "cell_type": "code",
   "execution_count": 15,
   "metadata": {},
   "outputs": [
    {
     "name": "stdout",
     "output_type": "stream",
     "text": [
      "k = 0, S_k = 1.0000000\n",
      "k = 1, S_k = -4.5000000\n",
      "k = 2, S_k = 10.6250000\n",
      "k = 3, S_k = -17.1050000\n",
      "k = 4, S_k = 21.0240000\n",
      "k = 5, S_k = -20.9180000\n",
      "k = 6, S_k = 17.5290000\n",
      "k = 7, S_k = -12.6790000\n",
      "k = 8, S_k = 8.0890000\n",
      "k = 9, S_k = -4.6030000\n",
      "k = 10, S_k = 2.3770000\n",
      "k = 11, S_k = -1.1130000\n",
      "k = 12, S_k = 0.4870000\n",
      "k = 13, S_k = -0.1900000\n",
      "k = 14, S_k = 0.0760000\n",
      "k = 15, S_k = -0.0210000\n",
      "k = 16, S_k = 0.0120000\n",
      "k = 17, S_k = 0.0010000\n",
      "k = 18, S_k = 0.0050000\n",
      "k = 19, S_k = 0.0040000\n",
      "k = 20, S_k = 0.0040000\n",
      "k = 21, S_k = 0.0040000\n",
      "k = 22, S_k = 0.0040000\n",
      "k = 23, S_k = 0.0040000\n",
      "k = 24, S_k = 0.0040000\n",
      "k = 25, S_k = 0.0040000\n",
      "k = 26, S_k = 0.0040000\n",
      "k = 27, S_k = 0.0040000\n",
      "k = 28, S_k = 0.0040000\n",
      "k = 29, S_k = 0.0040000\n"
     ]
    }
   ],
   "source": [
    "for i in range(30):\n",
    "    print(\"k = {0:d}, S_k = {1:.7f}\".format(i, exp_trunc_back(-5.5, i)))"
   ]
  },
  {
   "cell_type": "code",
   "execution_count": 118,
   "metadata": {},
   "outputs": [
    {
     "data": {
      "text/plain": [
       "-0.021232270943118334"
      ]
     },
     "execution_count": 118,
     "metadata": {},
     "output_type": "execute_result"
    }
   ],
   "source": [
    "(0.0040000 - np.exp(-5.5))/np.exp(-5.5)"
   ]
  },
  {
   "cell_type": "markdown",
   "metadata": {},
   "source": [
    "## Compute by alternating sums"
   ]
  },
  {
   "cell_type": "code",
   "execution_count": 16,
   "metadata": {},
   "outputs": [],
   "source": [
    "def exp_trunc_alt(x, terms=30, n=5, verbose=True):\n",
    "    '''\n",
    "    Compute e^x by its power series up to a given number of terms, truncating at each operation.\n",
    "    Adds odd and even terms separately.\n",
    "    '''\n",
    "    evens = 0.0\n",
    "    odds = 0.0\n",
    "    sign = np.sign(x)\n",
    "    x = abs(x)\n",
    "    for i in range(0, terms+1, 2):\n",
    "        evens = add_trunc(evens, div_trunc(pow_trunc(x, i, n), factorial(i), n), n)\n",
    "    for i in range(1, terms+1, 2):\n",
    "        odds = add_trunc(odds, div_trunc(pow_trunc(x, i, n), factorial(i), n), n)\n",
    "    if verbose:\n",
    "        print('odds = {0:.5g}, evens = {1:.5g}'.format(odds, evens))\n",
    "    result = add_trunc(evens, sign * odds, n)\n",
    "    return result"
   ]
  },
  {
   "cell_type": "code",
   "execution_count": 17,
   "metadata": {},
   "outputs": [
    {
     "name": "stdout",
     "output_type": "stream",
     "text": [
      "odds = 122.35, evens = 122.35\n"
     ]
    },
    {
     "data": {
      "text/plain": [
       "0.0"
      ]
     },
     "execution_count": 17,
     "metadata": {},
     "output_type": "execute_result"
    }
   ],
   "source": [
    "exp_trunc_alt(-5.5, 30)"
   ]
  },
  {
   "cell_type": "code",
   "execution_count": 18,
   "metadata": {},
   "outputs": [
    {
     "name": "stdout",
     "output_type": "stream",
     "text": [
      "odds = 0, evens = 1\n",
      "k = 0, S_k = 1.0000000\n",
      "odds = 5.5, evens = 1\n",
      "k = 1, S_k = -4.5000000\n",
      "odds = 5.5, evens = 16.125\n",
      "k = 2, S_k = 10.6250000\n",
      "odds = 33.23, evens = 16.125\n",
      "k = 3, S_k = -17.1050000\n",
      "odds = 33.23, evens = 54.254\n",
      "k = 4, S_k = 21.0240000\n",
      "odds = 75.172, evens = 54.254\n",
      "k = 5, S_k = -20.9180000\n",
      "odds = 75.172, evens = 92.701\n",
      "k = 6, S_k = 17.5290000\n",
      "odds = 105.38, evens = 92.701\n",
      "k = 7, S_k = -12.6790000\n",
      "odds = 105.38, evens = 113.47\n",
      "k = 8, S_k = 8.0900000\n",
      "odds = 118.07, evens = 113.47\n",
      "k = 9, S_k = -4.6000000\n",
      "odds = 118.07, evens = 120.45\n",
      "k = 10, S_k = 2.3800000\n",
      "odds = 121.56, evens = 120.45\n",
      "k = 11, S_k = -1.1100000\n",
      "odds = 121.56, evens = 122.05\n",
      "k = 12, S_k = 0.4900000\n",
      "odds = 122.24, evens = 122.05\n",
      "k = 13, S_k = -0.1900000\n",
      "odds = 122.24, evens = 122.32\n",
      "k = 14, S_k = 0.0800000\n",
      "odds = 122.34, evens = 122.32\n",
      "k = 15, S_k = -0.0200000\n",
      "odds = 122.34, evens = 122.35\n",
      "k = 16, S_k = 0.0100000\n",
      "odds = 122.35, evens = 122.35\n",
      "k = 17, S_k = 0.0000000\n",
      "odds = 122.35, evens = 122.35\n",
      "k = 18, S_k = 0.0000000\n",
      "odds = 122.35, evens = 122.35\n",
      "k = 19, S_k = 0.0000000\n"
     ]
    }
   ],
   "source": [
    "for i in range(20):\n",
    "    print(\"k = {0:d}, S_k = {1:.7f}\".format(i, exp_trunc_alt(-5.5, i)))"
   ]
  },
  {
   "cell_type": "code",
   "execution_count": 19,
   "metadata": {},
   "outputs": [],
   "source": [
    "def exp_trunc_alt_back(x, terms=30, n=5, verbose=True):\n",
    "    '''\n",
    "    Compute e^x by its power series up to a given number of terms, truncating at each operation.\n",
    "    '''\n",
    "    evens = 0.0\n",
    "    odds = 0.0\n",
    "    sign = np.sign(x)\n",
    "    x = abs(x)\n",
    "    if (terms % 2) == 0:        \n",
    "        for i in range(terms, -1, -2):\n",
    "            evens = add_trunc(evens, div_trunc(pow_trunc(x, i, n), factorial(i), n), n)\n",
    "        for i in range(terms-1, -1, -2):\n",
    "            odds = add_trunc(odds, div_trunc(pow_trunc(x, i, n), factorial(i), n), n)\n",
    "    else:\n",
    "        for i in range(terms, -1, -2):\n",
    "            odds = add_trunc(odds, div_trunc(pow_trunc(x, i, n), factorial(i), n), n)\n",
    "        for i in range(terms-1, -1, -2):\n",
    "            evens = add_trunc(evens, div_trunc(pow_trunc(x, i, n), factorial(i), n), n)\n",
    "\n",
    "    if verbose:\n",
    "        print('odds = {0:.5g}, evens = {1:.5g}'.format(odds, evens))\n",
    "    result = add_trunc(odds, sign*evens, n)\n",
    "\n",
    "    return result"
   ]
  },
  {
   "cell_type": "code",
   "execution_count": 20,
   "metadata": {},
   "outputs": [
    {
     "name": "stdout",
     "output_type": "stream",
     "text": [
      "odds = 122.35, evens = 122.36\n"
     ]
    },
    {
     "data": {
      "text/plain": [
       "-0.01"
      ]
     },
     "execution_count": 20,
     "metadata": {},
     "output_type": "execute_result"
    }
   ],
   "source": [
    "exp_trunc_alt_back(-5.5, 30)"
   ]
  },
  {
   "cell_type": "code",
   "execution_count": 156,
   "metadata": {},
   "outputs": [
    {
     "name": "stdout",
     "output_type": "stream",
     "text": [
      "odds = 0, evens = 1\n",
      "k = 0, S_k = -1.0000000\n",
      "odds = 5.5, evens = 1\n",
      "k = 1, S_k = 4.5000000\n",
      "odds = 5.5, evens = 16.125\n",
      "k = 2, S_k = -10.6250000\n",
      "odds = 33.23, evens = 16.125\n",
      "k = 3, S_k = 17.1050000\n",
      "odds = 33.23, evens = 54.254\n",
      "k = 4, S_k = -21.0240000\n",
      "odds = 75.172, evens = 54.254\n",
      "k = 5, S_k = 20.9180000\n",
      "odds = 75.172, evens = 92.701\n",
      "k = 6, S_k = -17.5290000\n",
      "odds = 105.38, evens = 92.701\n",
      "k = 7, S_k = 12.6790000\n",
      "odds = 105.38, evens = 113.47\n",
      "k = 8, S_k = -8.0900000\n",
      "odds = 118.07, evens = 113.47\n",
      "k = 9, S_k = 4.6000000\n",
      "odds = 118.07, evens = 120.44\n",
      "k = 10, S_k = -2.3700000\n",
      "odds = 121.56, evens = 120.44\n",
      "k = 11, S_k = 1.1200000\n",
      "odds = 121.56, evens = 122.05\n",
      "k = 12, S_k = -0.4900000\n",
      "odds = 122.24, evens = 122.05\n",
      "k = 13, S_k = 0.1900000\n",
      "odds = 122.24, evens = 122.31\n",
      "k = 14, S_k = -0.0700000\n",
      "odds = 122.34, evens = 122.31\n",
      "k = 15, S_k = 0.0300000\n",
      "odds = 122.34, evens = 122.34\n",
      "k = 16, S_k = 0.0000000\n",
      "odds = 122.35, evens = 122.34\n",
      "k = 17, S_k = 0.0100000\n",
      "odds = 122.35, evens = 122.36\n",
      "k = 18, S_k = -0.0100000\n",
      "odds = 122.35, evens = 122.36\n",
      "k = 19, S_k = -0.0100000\n",
      "odds = 122.35, evens = 122.36\n",
      "k = 20, S_k = -0.0100000\n",
      "odds = 122.35, evens = 122.36\n",
      "k = 21, S_k = -0.0100000\n",
      "odds = 122.35, evens = 122.36\n",
      "k = 22, S_k = -0.0100000\n",
      "odds = 122.35, evens = 122.36\n",
      "k = 23, S_k = -0.0100000\n",
      "odds = 122.35, evens = 122.36\n",
      "k = 24, S_k = -0.0100000\n"
     ]
    }
   ],
   "source": [
    "for i in range(25):\n",
    "    print(\"k = {0:d}, S_k = {1:.7f}\".format(i, exp_trunc_alt_back(-5.5, i)))"
   ]
  },
  {
   "cell_type": "code",
   "execution_count": 158,
   "metadata": {},
   "outputs": [
    {
     "data": {
      "text/plain": [
       "0.0040868"
      ]
     },
     "execution_count": 158,
     "metadata": {},
     "output_type": "execute_result"
    }
   ],
   "source": [
    "div_trunc(1, 244.69)"
   ]
  },
  {
   "cell_type": "markdown",
   "metadata": {},
   "source": [
    "## Compute by taking reciprocal of positive exponential"
   ]
  },
  {
   "cell_type": "code",
   "execution_count": 162,
   "metadata": {},
   "outputs": [
    {
     "name": "stdout",
     "output_type": "stream",
     "text": [
      "k = 0, S_k = 1.0000000\n",
      "k = 1, S_k = 0.1538500\n",
      "k = 2, S_k = 0.0462430\n",
      "k = 3, S_k = 0.0202610\n",
      "k = 4, S_k = 0.0114310\n",
      "k = 5, S_k = 0.0077268\n",
      "k = 6, S_k = 0.0059566\n",
      "k = 7, S_k = 0.0050482\n",
      "k = 8, S_k = 0.0045693\n",
      "k = 9, S_k = 0.0043189\n",
      "k = 10, S_k = 0.0041927\n",
      "k = 11, S_k = 0.0041321\n",
      "k = 12, S_k = 0.0041048\n",
      "k = 13, S_k = 0.0040937\n",
      "k = 14, S_k = 0.0040890\n",
      "k = 15, S_k = 0.0040873\n",
      "k = 16, S_k = 0.0040868\n",
      "k = 17, S_k = 0.0040868\n",
      "k = 18, S_k = 0.0040868\n",
      "k = 19, S_k = 0.0040868\n",
      "k = 20, S_k = 0.0040865\n",
      "k = 21, S_k = 0.0040865\n",
      "k = 22, S_k = 0.0040865\n",
      "k = 23, S_k = 0.0040865\n",
      "k = 24, S_k = 0.0040865\n",
      "k = 25, S_k = 0.0040865\n",
      "k = 26, S_k = 0.0040865\n",
      "k = 27, S_k = 0.0040865\n",
      "k = 28, S_k = 0.0040865\n",
      "k = 29, S_k = 0.0040865\n"
     ]
    }
   ],
   "source": [
    "for i in range(30):\n",
    "    print(\"k = {0:d}, S_k = {1:.7f}\".format(i, div_trunc(1, exp_trunc_back(5.5, i))))"
   ]
  },
  {
   "cell_type": "code",
   "execution_count": 163,
   "metadata": {},
   "outputs": [
    {
     "data": {
      "text/plain": [
       "6.988777415931331e-06"
      ]
     },
     "execution_count": 163,
     "metadata": {},
     "output_type": "execute_result"
    }
   ],
   "source": [
    "(0.0040868 - np.exp(-5.5))/np.exp(-5.5)"
   ]
  },
  {
   "cell_type": "code",
   "execution_count": null,
   "metadata": {},
   "outputs": [],
   "source": []
  }
 ],
 "metadata": {
  "kernelspec": {
   "display_name": "Python 3",
   "language": "python",
   "name": "python3"
  },
  "language_info": {
   "codemirror_mode": {
    "name": "ipython",
    "version": 3
   },
   "file_extension": ".py",
   "mimetype": "text/x-python",
   "name": "python",
   "nbconvert_exporter": "python",
   "pygments_lexer": "ipython3",
   "version": "3.7.1"
  }
 },
 "nbformat": 4,
 "nbformat_minor": 2
}
