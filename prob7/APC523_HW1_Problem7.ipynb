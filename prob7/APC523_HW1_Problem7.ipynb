{
 "cells": [
  {
   "cell_type": "markdown",
   "metadata": {},
   "source": [
    "# APC 523 HW1 Problem 7"
   ]
  },
  {
   "cell_type": "code",
   "execution_count": 15,
   "metadata": {},
   "outputs": [],
   "source": [
    "import numpy as np\n",
    "import matplotlib.pyplot as plt\n",
    "\n",
    "import math"
   ]
  },
  {
   "cell_type": "markdown",
   "metadata": {},
   "source": [
    "## Define the polynomial\n",
    "\n",
    "Wilkinson's polynomial:\n",
    "$$ w(x) = \\prod_{k=1}^{20} (x-k) = (x-1)(x-2) \\cdots (x-20)$$\n",
    "\n",
    "We can expand out the factors recursively."
   ]
  },
  {
   "cell_type": "code",
   "execution_count": 98,
   "metadata": {},
   "outputs": [],
   "source": [
    "def wilkinson_polynomial_coeffs(n=20):\n",
    "    '''\n",
    "    Get polynomial coefficients recursively.\n",
    "    '''\n",
    "    # Base case\n",
    "    if n == 1:\n",
    "        return np.asarray([-1, 1], dtype='object')\n",
    "    \n",
    "    # Recurse\n",
    "    prev = wilkinson_polynomial_coeffs(n-1)\n",
    "    coeffs = np.empty(n+1, dtype='object')\n",
    "    coeffs[n] = 1\n",
    "    for i in range(1, n):\n",
    "        coeffs[i] = prev[i-1] - n * prev[i]\n",
    "    coeffs[0] = -n * prev[0]\n",
    "    \n",
    "    return coeffs\n"
   ]
  },
  {
   "cell_type": "code",
   "execution_count": 99,
   "metadata": {},
   "outputs": [],
   "source": [
    "wp_int = wilkinson_polynomial_coeffs(20)"
   ]
  },
  {
   "cell_type": "code",
   "execution_count": 100,
   "metadata": {},
   "outputs": [
    {
     "data": {
      "text/plain": [
       "array([1, -210, 20615, -1256850, 53327946, -1672280820, 40171771630,\n",
       "       -756111184500, 11310276995381, -135585182899530, 1307535010540395,\n",
       "       -10142299865511450, 63030812099294896, -311333643161390640,\n",
       "       1206647803780373360, -3599979517947607200, 8037811822645051776,\n",
       "       -12870931245150988800, 13803759753640704000, -8752948036761600000,\n",
       "       2432902008176640000], dtype=object)"
      ]
     },
     "execution_count": 100,
     "metadata": {},
     "output_type": "execute_result"
    }
   ],
   "source": [
    "wp_int[::-1]"
   ]
  },
  {
   "cell_type": "code",
   "execution_count": 172,
   "metadata": {},
   "outputs": [
    {
     "data": {
      "text/plain": [
       "' + 1x^{20} - 210x^{19} + 20615x^{18} - 1256850x^{17} + 53327946x^{16} - 1672280820x^{15} + 40171771630x^{14} - 756111184500x^{13} + 11310276995381x^{12} - 135585182899530x^{11} + 1307535010540395x^{10} - 10142299865511450x^{9} + 63030812099294896x^{8} - 311333643161390640x^{7} + 1206647803780373360x^{6} - 3599979517947607200x^{5} + 8037811822645051776x^{4} - 12870931245150988800x^{3} + 13803759753640704000x^{2} - 8752948036761600000x^{1} + 2432902008176640000x^{0}'"
      ]
     },
     "execution_count": 172,
     "metadata": {},
     "output_type": "execute_result"
    }
   ],
   "source": [
    "ps = ''\n",
    "for i in range(len(wp_int)-1, -1, -1):\n",
    "    sgn = np.sign(wp_int[i])\n",
    "    ps += (' + ' if sgn == 1 else ' - ')\n",
    "    ps += '{0:d}x^{{{1:d}}}'.format(abs(wp_int[i]), i)\n",
    "ps"
   ]
  },
  {
   "cell_type": "code",
   "execution_count": 173,
   "metadata": {},
   "outputs": [],
   "source": [
    "wp = np.asarray(wp_int, dtype=np.float64)"
   ]
  },
  {
   "cell_type": "code",
   "execution_count": 174,
   "metadata": {},
   "outputs": [],
   "source": [
    "wpoly = np.polynomial.Polynomial(wp)"
   ]
  },
  {
   "cell_type": "markdown",
   "metadata": {},
   "source": [
    "## Compute roots using built-in methods"
   ]
  },
  {
   "cell_type": "code",
   "execution_count": 107,
   "metadata": {},
   "outputs": [],
   "source": [
    "import scipy.optimize"
   ]
  },
  {
   "cell_type": "code",
   "execution_count": 180,
   "metadata": {},
   "outputs": [
    {
     "name": "stdout",
     "output_type": "stream",
     "text": [
      "19.9999949571418 -2.5214290992892075e-07\n"
     ]
    }
   ],
   "source": [
    "nr_root = scipy.optimize.newton(wpoly, 21)\n",
    "print(nr_root, (nr_root - 20.0)/20.0)"
   ]
  },
  {
   "cell_type": "code",
   "execution_count": 181,
   "metadata": {},
   "outputs": [
    {
     "name": "stdout",
     "output_type": "stream",
     "text": [
      "(20.000542093702702+0j) (2.7104685135093123e-05+0j)\n"
     ]
    }
   ],
   "source": [
    "np_root = wpoly.roots()[-1]\n",
    "print(np_root, (np_root - 20.0)/20.0)"
   ]
  },
  {
   "cell_type": "code",
   "execution_count": 184,
   "metadata": {},
   "outputs": [
    {
     "name": "stdout",
     "output_type": "stream",
     "text": [
      "Perturbation = 1.0e-08, root = 9.585389647, rel. error = -0.521\n",
      "Perturbation = 1.0e-06, root = 7.752713003, rel. error = -0.612\n",
      "Perturbation = 1.0e-04, root = 5.96933485, rel. error = -0.702\n",
      "Perturbation = 1.0e-02, root = 5.469592915, rel. error = -0.727\n"
     ]
    }
   ],
   "source": [
    "for perturb in [1e-8, 1e-6, 1e-4, 1e-2]:\n",
    "    wp_perturb = np.copy(wp)\n",
    "    wp_perturb[-1] += perturb\n",
    "    poly_perturb = np.polynomial.Polynomial(wp_perturb)\n",
    "    perturbed_root = scipy.optimize.newton(poly_perturb, 21, maxiter=100)\n",
    "    \n",
    "    print('Perturbation = {0:.1e}, root = {1:.10g}, rel. error = {2:.3g}'.format(perturb,\n",
    "                perturbed_root, (perturbed_root - 20)/20))"
   ]
  },
  {
   "cell_type": "code",
   "execution_count": 182,
   "metadata": {},
   "outputs": [
    {
     "data": {
      "text/plain": [
       "array([ 1.        +0.j        ,  2.        +0.j        ,\n",
       "        3.        +0.j        ,  3.99999987+0.j        ,\n",
       "        5.00000508+0.j        ,  5.99962991+0.j        ,\n",
       "        7.01924407+0.j        ,  7.75224496+0.j        ,\n",
       "        8.6417218 -1.00752734j,  8.6417218 +1.00752734j,\n",
       "        9.99509845-2.28807145j,  9.99509845+2.28807145j,\n",
       "       11.8655255 -3.74753662j, 11.8655255 +3.74753662j,\n",
       "       14.65897489-5.1502364j , 14.65897489+5.1502364j ,\n",
       "       18.8039955 -5.53148348j, 18.8039955 +5.53148348j,\n",
       "       23.1490169 -2.7409845j , 23.1490169 +2.7409845j ])"
      ]
     },
     "execution_count": 182,
     "metadata": {},
     "output_type": "execute_result"
    }
   ],
   "source": [
    "wp_perturb = np.copy(wp)\n",
    "wp_perturb[-1] += 1.0e-6\n",
    "poly_perturb = np.polynomial.Polynomial(wp_perturb)\n",
    "poly_perturb.roots()"
   ]
  },
  {
   "cell_type": "code",
   "execution_count": 185,
   "metadata": {},
   "outputs": [],
   "source": [
    "wp_perturb = np.copy(wp)\n",
    "wp_perturb[-2] -= 2**-23\n",
    "poly_perturb = np.polynomial.Polynomial(wp_perturb)"
   ]
  },
  {
   "cell_type": "code",
   "execution_count": 186,
   "metadata": {},
   "outputs": [
    {
     "data": {
      "text/plain": [
       "20.846907731075376"
      ]
     },
     "execution_count": 186,
     "metadata": {},
     "output_type": "execute_result"
    }
   ],
   "source": [
    "scipy.optimize.newton(poly_perturb, 21, maxiter=100)"
   ]
  },
  {
   "cell_type": "code",
   "execution_count": 192,
   "metadata": {},
   "outputs": [
    {
     "data": {
      "text/plain": [
       "8.00730481681552"
      ]
     },
     "execution_count": 192,
     "metadata": {},
     "output_type": "execute_result"
    }
   ],
   "source": [
    "scipy.optimize.newton(poly_perturb, 17, maxiter=100)"
   ]
  },
  {
   "cell_type": "code",
   "execution_count": 193,
   "metadata": {},
   "outputs": [
    {
     "data": {
      "text/plain": [
       "array([ 1.        +0.j        ,  2.        +0.j        ,\n",
       "        3.        +0.j        ,  4.00000002+0.j        ,\n",
       "        4.99999985+0.j        ,  6.00000831+0.j        ,\n",
       "        6.99965899+0.j        ,  8.00777435+0.j        ,\n",
       "        8.9146078 +0.j        , 10.09442898-0.64843958j,\n",
       "       10.09442898+0.64843958j, 11.79460279-1.65426469j,\n",
       "       11.79460279+1.65426469j, 13.99301797-2.51922164j,\n",
       "       13.99301797+2.51922164j, 16.73096403-2.81265595j,\n",
       "       16.73096403+2.81265595j, 19.50249798-1.94032951j,\n",
       "       19.50249798+1.94032951j, 20.8469273 +0.j        ])"
      ]
     },
     "execution_count": 193,
     "metadata": {},
     "output_type": "execute_result"
    }
   ],
   "source": [
    "poly_perturb.roots()"
   ]
  },
  {
   "cell_type": "markdown",
   "metadata": {},
   "source": [
    "## Condition numbers"
   ]
  },
  {
   "cell_type": "code",
   "execution_count": 198,
   "metadata": {},
   "outputs": [],
   "source": [
    "wprime_int = np.zeros(len(wp_int)-1, dtype='object')\n",
    "for i in range(0, len(wprime_int)):\n",
    "        wprime_int[i] = (i+1) * wp_int[i+1]"
   ]
  },
  {
   "cell_type": "code",
   "execution_count": 200,
   "metadata": {},
   "outputs": [],
   "source": [
    "wprime = np.polynomial.Polynomial(wprime_int)"
   ]
  },
  {
   "cell_type": "code",
   "execution_count": 212,
   "metadata": {},
   "outputs": [
    {
     "name": "stdout",
     "output_type": "stream",
     "text": [
      "cond(14) = 5.3977328e+13\n",
      "cond(16) = 3.5431949e+13\n",
      "cond(17) = 1.8121772e+13\n",
      "cond(20) = 1.3780364e+11\n"
     ]
    }
   ],
   "source": [
    "for r in [14, 16, 17, 20]:\n",
    "    cond_num = 0.0\n",
    "    for i in range(20):\n",
    "        cond_num += np.abs(wp_int[i] * (r**(i-1)) / wprime(r))\n",
    "#     indices = np.arange(20, dtype='object') - 1\n",
    "#     cond_num = np.sum(np.abs(wp_int[:-1] * (r**indices) / wprime(r)))\n",
    "    print('cond({0:d}) = {1:.8g}'.format(r, cond_num))"
   ]
  },
  {
   "cell_type": "code",
   "execution_count": 205,
   "metadata": {},
   "outputs": [
    {
     "data": {
      "text/plain": [
       "array([2432902008176640000, -8752948036761600000, 13803759753640704000,\n",
       "       -12870931245150988800, 8037811822645051776, -3599979517947607200,\n",
       "       1206647803780373360, -311333643161390640, 63030812099294896,\n",
       "       -10142299865511450, 1307535010540395, -135585182899530,\n",
       "       11310276995381, -756111184500, 40171771630, -1672280820, 53327946,\n",
       "       -1256850, 20615, -210], dtype=object)"
      ]
     },
     "execution_count": 205,
     "metadata": {},
     "output_type": "execute_result"
    }
   ],
   "source": [
    "wp_int[:-1]"
   ]
  },
  {
   "cell_type": "code",
   "execution_count": 209,
   "metadata": {},
   "outputs": [
    {
     "data": {
      "text/plain": [
       "array([1, 2, 4, 8, 16, 32, 64, 128, 256, 512, 1024, 2048, 4096, 8192,\n",
       "       16384, 32768, 65536, 131072, 262144, 524288], dtype=object)"
      ]
     },
     "execution_count": 209,
     "metadata": {},
     "output_type": "execute_result"
    }
   ],
   "source": [
    "np.arange(20, dtype='object')"
   ]
  },
  {
   "cell_type": "code",
   "execution_count": null,
   "metadata": {},
   "outputs": [],
   "source": []
  }
 ],
 "metadata": {
  "kernelspec": {
   "display_name": "Python 3",
   "language": "python",
   "name": "python3"
  },
  "language_info": {
   "codemirror_mode": {
    "name": "ipython",
    "version": 3
   },
   "file_extension": ".py",
   "mimetype": "text/x-python",
   "name": "python",
   "nbconvert_exporter": "python",
   "pygments_lexer": "ipython3",
   "version": "3.7.1"
  }
 },
 "nbformat": 4,
 "nbformat_minor": 2
}
